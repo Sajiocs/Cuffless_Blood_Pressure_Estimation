{
 "cells": [
  {
   "cell_type": "code",
   "execution_count": 1,
   "id": "1d709b4f",
   "metadata": {},
   "outputs": [],
   "source": [
    "import pandas as pd\n",
    "import numpy as np\n",
    "import matplotlib.pyplot as plt\n",
    "from sklearn.model_selection import train_test_split\n",
    "import seaborn as sns"
   ]
  },
  {
   "cell_type": "code",
   "execution_count": 2,
   "id": "b9c62ad3",
   "metadata": {},
   "outputs": [],
   "source": [
    "df=pd.read_pickle('syam')"
   ]
  },
  {
   "cell_type": "code",
   "execution_count": 3,
   "id": "ed721b41",
   "metadata": {},
   "outputs": [],
   "source": [
    "d1=pd.DataFrame()"
   ]
  },
  {
   "cell_type": "code",
   "execution_count": 4,
   "id": "3ca5208c",
   "metadata": {},
   "outputs": [],
   "source": [
    "df.set_axis(['ECG','PPG','Blood Pressure'],inplace=True,axis=1)"
   ]
  },
  {
   "cell_type": "code",
   "execution_count": 5,
   "id": "1a299153",
   "metadata": {},
   "outputs": [
    {
     "data": {
      "text/html": [
       "<div>\n",
       "<style scoped>\n",
       "    .dataframe tbody tr th:only-of-type {\n",
       "        vertical-align: middle;\n",
       "    }\n",
       "\n",
       "    .dataframe tbody tr th {\n",
       "        vertical-align: top;\n",
       "    }\n",
       "\n",
       "    .dataframe thead th {\n",
       "        text-align: right;\n",
       "    }\n",
       "</style>\n",
       "<table border=\"1\" class=\"dataframe\">\n",
       "  <thead>\n",
       "    <tr style=\"text-align: right;\">\n",
       "      <th></th>\n",
       "      <th>ECG</th>\n",
       "      <th>PPG</th>\n",
       "      <th>Blood Pressure</th>\n",
       "    </tr>\n",
       "  </thead>\n",
       "  <tbody>\n",
       "    <tr>\n",
       "      <th>0</th>\n",
       "      <td>0.225842</td>\n",
       "      <td>1.839741</td>\n",
       "      <td>94.657665</td>\n",
       "    </tr>\n",
       "    <tr>\n",
       "      <th>1</th>\n",
       "      <td>0.225903</td>\n",
       "      <td>1.833976</td>\n",
       "      <td>91.752576</td>\n",
       "    </tr>\n",
       "    <tr>\n",
       "      <th>2</th>\n",
       "      <td>0.226415</td>\n",
       "      <td>1.828620</td>\n",
       "      <td>98.127438</td>\n",
       "    </tr>\n",
       "    <tr>\n",
       "      <th>3</th>\n",
       "      <td>0.226293</td>\n",
       "      <td>1.826783</td>\n",
       "      <td>93.371451</td>\n",
       "    </tr>\n",
       "    <tr>\n",
       "      <th>4</th>\n",
       "      <td>0.231586</td>\n",
       "      <td>1.772849</td>\n",
       "      <td>92.790639</td>\n",
       "    </tr>\n",
       "    <tr>\n",
       "      <th>...</th>\n",
       "      <td>...</td>\n",
       "      <td>...</td>\n",
       "      <td>...</td>\n",
       "    </tr>\n",
       "    <tr>\n",
       "      <th>11995</th>\n",
       "      <td>0.323992</td>\n",
       "      <td>1.798134</td>\n",
       "      <td>73.777829</td>\n",
       "    </tr>\n",
       "    <tr>\n",
       "      <th>11996</th>\n",
       "      <td>0.323545</td>\n",
       "      <td>1.827413</td>\n",
       "      <td>75.135241</td>\n",
       "    </tr>\n",
       "    <tr>\n",
       "      <th>11997</th>\n",
       "      <td>0.323343</td>\n",
       "      <td>1.772016</td>\n",
       "      <td>77.417335</td>\n",
       "    </tr>\n",
       "    <tr>\n",
       "      <th>11998</th>\n",
       "      <td>0.321152</td>\n",
       "      <td>1.772100</td>\n",
       "      <td>82.978911</td>\n",
       "    </tr>\n",
       "    <tr>\n",
       "      <th>11999</th>\n",
       "      <td>0.322285</td>\n",
       "      <td>1.808691</td>\n",
       "      <td>85.315924</td>\n",
       "    </tr>\n",
       "  </tbody>\n",
       "</table>\n",
       "<p>12000 rows × 3 columns</p>\n",
       "</div>"
      ],
      "text/plain": [
       "            ECG       PPG  Blood Pressure\n",
       "0      0.225842  1.839741       94.657665\n",
       "1      0.225903  1.833976       91.752576\n",
       "2      0.226415  1.828620       98.127438\n",
       "3      0.226293  1.826783       93.371451\n",
       "4      0.231586  1.772849       92.790639\n",
       "...         ...       ...             ...\n",
       "11995  0.323992  1.798134       73.777829\n",
       "11996  0.323545  1.827413       75.135241\n",
       "11997  0.323343  1.772016       77.417335\n",
       "11998  0.321152  1.772100       82.978911\n",
       "11999  0.322285  1.808691       85.315924\n",
       "\n",
       "[12000 rows x 3 columns]"
      ]
     },
     "execution_count": 5,
     "metadata": {},
     "output_type": "execute_result"
    }
   ],
   "source": [
    "df"
   ]
  },
  {
   "cell_type": "code",
   "execution_count": 6,
   "id": "fbc2d29f",
   "metadata": {},
   "outputs": [
    {
     "data": {
      "text/plain": [
       "ECG                0.225842\n",
       "PPG                1.839741\n",
       "Blood Pressure    94.657665\n",
       "Name: 0, dtype: float64"
      ]
     },
     "execution_count": 6,
     "metadata": {},
     "output_type": "execute_result"
    }
   ],
   "source": [
    "df.iloc[0]"
   ]
  },
  {
   "cell_type": "code",
   "execution_count": 7,
   "id": "e88c9e7d",
   "metadata": {},
   "outputs": [],
   "source": [
    "y=df['Blood Pressure']"
   ]
  },
  {
   "cell_type": "code",
   "execution_count": 8,
   "id": "fa9a03fc",
   "metadata": {},
   "outputs": [],
   "source": [
    "X=df.drop('Blood Pressure',axis=1)"
   ]
  },
  {
   "cell_type": "code",
   "execution_count": 9,
   "id": "18a7fa79",
   "metadata": {},
   "outputs": [
    {
     "data": {
      "text/plain": [
       "0        94.657665\n",
       "1        91.752576\n",
       "2        98.127438\n",
       "3        93.371451\n",
       "4        92.790639\n",
       "           ...    \n",
       "11995    73.777829\n",
       "11996    75.135241\n",
       "11997    77.417335\n",
       "11998    82.978911\n",
       "11999    85.315924\n",
       "Name: Blood Pressure, Length: 12000, dtype: float64"
      ]
     },
     "execution_count": 9,
     "metadata": {},
     "output_type": "execute_result"
    }
   ],
   "source": [
    "y"
   ]
  },
  {
   "cell_type": "code",
   "execution_count": 10,
   "id": "5e6242f4",
   "metadata": {},
   "outputs": [],
   "source": [
    "X_train, X_test, y_train, y_test = train_test_split( X, y, test_size=0.33, random_state=42)"
   ]
  },
  {
   "cell_type": "code",
   "execution_count": 11,
   "id": "a33d671c",
   "metadata": {},
   "outputs": [],
   "source": [
    "from sklearn.preprocessing import MinMaxScaler"
   ]
  },
  {
   "cell_type": "code",
   "execution_count": 12,
   "id": "4908a254",
   "metadata": {},
   "outputs": [],
   "source": [
    "scaler=MinMaxScaler()\n",
    "X_train=scaler.fit_transform(X_train)\n",
    "X_test=scaler.transform(X_test)\n"
   ]
  },
  {
   "cell_type": "code",
   "execution_count": 13,
   "id": "b9f732ee",
   "metadata": {},
   "outputs": [
    {
     "data": {
      "text/plain": [
       "array([[0.72720379, 0.82005773],\n",
       "       [0.78981875, 0.73057131],\n",
       "       [0.78579182, 0.75047058],\n",
       "       ...,\n",
       "       [0.59997557, 0.83297134],\n",
       "       [0.88079986, 0.68635664],\n",
       "       [0.76124284, 0.74462635]])"
      ]
     },
     "execution_count": 13,
     "metadata": {},
     "output_type": "execute_result"
    }
   ],
   "source": [
    "X_train"
   ]
  },
  {
   "cell_type": "code",
   "execution_count": 14,
   "id": "1bdac1db",
   "metadata": {},
   "outputs": [],
   "source": [
    "from tensorflow.keras.models import Sequential\n",
    "from tensorflow.keras.layers import Dense,Dropout"
   ]
  },
  {
   "cell_type": "code",
   "execution_count": 15,
   "id": "371d7673",
   "metadata": {},
   "outputs": [
    {
     "data": {
      "text/plain": [
       "(8040, 2)"
      ]
     },
     "execution_count": 15,
     "metadata": {},
     "output_type": "execute_result"
    }
   ],
   "source": [
    "X_train.shape"
   ]
  },
  {
   "cell_type": "code",
   "execution_count": 16,
   "id": "da107fdf",
   "metadata": {},
   "outputs": [],
   "source": [
    "model1=Sequential()\n",
    "model1.add(Dense(30,activation='relu'))\n",
    "model1.add(Dropout(0.5))\n",
    "model1.add(Dense(15,activation='relu'))\n",
    "model1.add(Dropout(0.5))\n",
    "\n",
    "model1.add(Dense(1,activation='relu'))"
   ]
  },
  {
   "cell_type": "code",
   "execution_count": 17,
   "id": "7639326b",
   "metadata": {},
   "outputs": [],
   "source": [
    "model1.compile(optimizer='adam',loss='mse')"
   ]
  },
  {
   "cell_type": "code",
   "execution_count": 18,
   "id": "0219a219",
   "metadata": {},
   "outputs": [],
   "source": [
    "from tensorflow.keras.callbacks import EarlyStopping"
   ]
  },
  {
   "cell_type": "code",
   "execution_count": 19,
   "id": "170950ee",
   "metadata": {},
   "outputs": [],
   "source": [
    "erl=EarlyStopping(monitor='val_loss',patience=20,mode='min',verbose=1)"
   ]
  },
  {
   "cell_type": "code",
   "execution_count": 28,
   "id": "57c372c7",
   "metadata": {},
   "outputs": [
    {
     "name": "stdout",
     "output_type": "stream",
     "text": [
      "Epoch 1/100\n",
      "81/81 [==============================] - 0s 2ms/step - loss: 1419.0945 - val_loss: nan\n",
      "Epoch 2/100\n",
      "81/81 [==============================] - 0s 3ms/step - loss: 1427.4044 - val_loss: nan\n",
      "Epoch 3/100\n",
      "81/81 [==============================] - 0s 3ms/step - loss: 1375.2593 - val_loss: nan\n",
      "Epoch 4/100\n",
      "81/81 [==============================] - 0s 3ms/step - loss: 1377.9323 - val_loss: nan\n",
      "Epoch 5/100\n",
      "81/81 [==============================] - 0s 3ms/step - loss: 1391.6942 - val_loss: nan\n",
      "Epoch 6/100\n",
      "81/81 [==============================] - 0s 3ms/step - loss: 1369.0515 - val_loss: nan\n",
      "Epoch 7/100\n",
      "81/81 [==============================] - 0s 3ms/step - loss: 1386.1520 - val_loss: nan\n",
      "Epoch 8/100\n",
      "81/81 [==============================] - 0s 3ms/step - loss: 1363.6920 - val_loss: nan\n",
      "Epoch 9/100\n",
      "81/81 [==============================] - 0s 1ms/step - loss: 1339.3506 - val_loss: nan\n",
      "Epoch 10/100\n",
      "81/81 [==============================] - 0s 3ms/step - loss: 1359.8245 - val_loss: nan\n",
      "Epoch 11/100\n",
      "81/81 [==============================] - 0s 3ms/step - loss: 1357.2925 - val_loss: nan\n",
      "Epoch 12/100\n",
      "81/81 [==============================] - 0s 3ms/step - loss: 1388.8469 - val_loss: nan\n",
      "Epoch 13/100\n",
      "81/81 [==============================] - 0s 3ms/step - loss: 1366.6466 - val_loss: nan\n",
      "Epoch 14/100\n",
      "81/81 [==============================] - 0s 2ms/step - loss: 1346.3870 - val_loss: nan\n",
      "Epoch 15/100\n",
      "81/81 [==============================] - 0s 1ms/step - loss: 1328.4805 - val_loss: nan\n",
      "Epoch 16/100\n",
      "81/81 [==============================] - 0s 2ms/step - loss: 1346.0945 - val_loss: nan\n",
      "Epoch 17/100\n",
      "81/81 [==============================] - 0s 2ms/step - loss: 1368.6016 - val_loss: nan\n",
      "Epoch 18/100\n",
      "81/81 [==============================] - 0s 2ms/step - loss: 1341.4397 - val_loss: nan\n",
      "Epoch 19/100\n",
      "81/81 [==============================] - 0s 3ms/step - loss: 1340.5620 - val_loss: nan\n",
      "Epoch 20/100\n",
      "81/81 [==============================] - 0s 2ms/step - loss: 1343.3521 - val_loss: nan\n",
      "Epoch 21/100\n",
      "81/81 [==============================] - 0s 2ms/step - loss: 1347.7186 - val_loss: nan\n",
      "Epoch 22/100\n",
      "81/81 [==============================] - 0s 1ms/step - loss: 1305.2186 - val_loss: nan\n",
      "Epoch 23/100\n",
      "81/81 [==============================] - 0s 1ms/step - loss: 1317.4230 - val_loss: nan\n",
      "Epoch 24/100\n",
      "81/81 [==============================] - 0s 3ms/step - loss: 1317.5997 - val_loss: nan\n",
      "Epoch 25/100\n",
      "81/81 [==============================] - 0s 3ms/step - loss: 1323.2131 - val_loss: nan\n",
      "Epoch 26/100\n",
      "81/81 [==============================] - 0s 3ms/step - loss: 1313.7487 - val_loss: nan\n",
      "Epoch 27/100\n",
      "81/81 [==============================] - 0s 3ms/step - loss: 1292.2384 - val_loss: nan\n",
      "Epoch 28/100\n",
      "81/81 [==============================] - 0s 3ms/step - loss: 1306.1287 - val_loss: nan\n",
      "Epoch 29/100\n",
      "81/81 [==============================] - 0s 3ms/step - loss: 1258.7177 - val_loss: nan\n",
      "Epoch 30/100\n",
      "81/81 [==============================] - 0s 3ms/step - loss: 1268.7437 - val_loss: nan\n",
      "Epoch 31/100\n",
      "81/81 [==============================] - 0s 1ms/step - loss: 1262.5494 - val_loss: nan\n",
      "Epoch 32/100\n",
      "81/81 [==============================] - 0s 1ms/step - loss: 1242.5194 - val_loss: nan\n",
      "Epoch 33/100\n",
      "81/81 [==============================] - 0s 3ms/step - loss: 1270.2628 - val_loss: nan\n",
      "Epoch 34/100\n",
      "81/81 [==============================] - 0s 3ms/step - loss: 1256.1652 - val_loss: nan\n",
      "Epoch 35/100\n",
      "81/81 [==============================] - 0s 3ms/step - loss: 1282.8259 - val_loss: nan\n",
      "Epoch 36/100\n",
      "81/81 [==============================] - 0s 3ms/step - loss: 1237.8081 - val_loss: nan\n",
      "Epoch 37/100\n",
      "81/81 [==============================] - 0s 3ms/step - loss: 1253.3575 - val_loss: nan\n",
      "Epoch 38/100\n",
      "81/81 [==============================] - 0s 3ms/step - loss: 1275.9142 - val_loss: nan\n",
      "Epoch 39/100\n",
      "81/81 [==============================] - 0s 1ms/step - loss: 1213.6003 - val_loss: nan\n",
      "Epoch 40/100\n",
      "81/81 [==============================] - 0s 1ms/step - loss: 1234.8021 - val_loss: nan\n",
      "Epoch 41/100\n",
      "81/81 [==============================] - 0s 3ms/step - loss: 1157.4049 - val_loss: nan\n",
      "Epoch 42/100\n",
      "81/81 [==============================] - 0s 3ms/step - loss: 1155.8131 - val_loss: nan\n",
      "Epoch 43/100\n",
      "81/81 [==============================] - 0s 2ms/step - loss: 1141.1890 - val_loss: nan\n",
      "Epoch 44/100\n",
      "81/81 [==============================] - 0s 1ms/step - loss: 1134.9008 - val_loss: nan\n",
      "Epoch 45/100\n",
      "81/81 [==============================] - 0s 1ms/step - loss: 1092.6117 - val_loss: nan\n",
      "Epoch 46/100\n",
      "81/81 [==============================] - 0s 1ms/step - loss: 1119.6420 - val_loss: nan\n",
      "Epoch 47/100\n",
      "81/81 [==============================] - 0s 1ms/step - loss: 1139.8583 - val_loss: nan\n",
      "Epoch 48/100\n",
      "81/81 [==============================] - 0s 1ms/step - loss: 1107.4186 - val_loss: nan\n",
      "Epoch 49/100\n",
      "81/81 [==============================] - 0s 1ms/step - loss: 1102.5400 - val_loss: nan\n",
      "Epoch 50/100\n",
      "81/81 [==============================] - 0s 1ms/step - loss: 1103.2224 - val_loss: nan\n",
      "Epoch 51/100\n",
      "81/81 [==============================] - 0s 2ms/step - loss: 1082.2114 - val_loss: nan\n",
      "Epoch 52/100\n",
      "81/81 [==============================] - 0s 2ms/step - loss: 1101.1035 - val_loss: nan\n",
      "Epoch 53/100\n",
      "81/81 [==============================] - 0s 2ms/step - loss: 1105.7765 - val_loss: nan\n",
      "Epoch 54/100\n",
      "81/81 [==============================] - 0s 2ms/step - loss: 1104.8328 - val_loss: nan\n",
      "Epoch 55/100\n",
      "81/81 [==============================] - 0s 3ms/step - loss: 1079.4154 - val_loss: nan\n",
      "Epoch 56/100\n",
      "81/81 [==============================] - 0s 3ms/step - loss: 1097.8558 - val_loss: nan\n",
      "Epoch 57/100\n",
      "81/81 [==============================] - 0s 2ms/step - loss: 1082.4667 - val_loss: nan\n",
      "Epoch 58/100\n",
      "81/81 [==============================] - 0s 2ms/step - loss: 1088.7125 - val_loss: nan\n",
      "Epoch 59/100\n",
      "81/81 [==============================] - 0s 1ms/step - loss: 1072.1146 - val_loss: nan\n",
      "Epoch 60/100\n",
      "81/81 [==============================] - 0s 2ms/step - loss: 1071.9930 - val_loss: nan\n",
      "Epoch 61/100\n",
      "81/81 [==============================] - 0s 2ms/step - loss: 1048.0428 - val_loss: nan\n",
      "Epoch 62/100\n",
      "81/81 [==============================] - 0s 2ms/step - loss: 1081.9985 - val_loss: nan\n",
      "Epoch 63/100\n",
      "81/81 [==============================] - 0s 1ms/step - loss: 1054.0693 - val_loss: nan\n",
      "Epoch 64/100\n",
      "81/81 [==============================] - 0s 1ms/step - loss: 1025.7097 - val_loss: nan\n",
      "Epoch 65/100\n",
      "81/81 [==============================] - 0s 1ms/step - loss: 1062.5570 - val_loss: nan\n",
      "Epoch 66/100\n",
      "81/81 [==============================] - 0s 3ms/step - loss: 1022.8520 - val_loss: nan\n",
      "Epoch 67/100\n",
      "81/81 [==============================] - 0s 2ms/step - loss: 1010.5209 - val_loss: nan\n",
      "Epoch 68/100\n",
      "81/81 [==============================] - 0s 1ms/step - loss: 1002.3100 - val_loss: nan\n",
      "Epoch 69/100\n",
      "81/81 [==============================] - 0s 3ms/step - loss: 1022.0583 - val_loss: nan\n",
      "Epoch 70/100\n",
      "81/81 [==============================] - 0s 2ms/step - loss: 1019.7300 - val_loss: nan\n",
      "Epoch 71/100\n",
      "81/81 [==============================] - 0s 2ms/step - loss: 1024.4298 - val_loss: nan\n",
      "Epoch 72/100\n",
      "81/81 [==============================] - 0s 1ms/step - loss: 1013.8996 - val_loss: nan\n",
      "Epoch 73/100\n",
      "81/81 [==============================] - 0s 2ms/step - loss: 1015.8326 - val_loss: nan\n",
      "Epoch 74/100\n",
      "81/81 [==============================] - 0s 2ms/step - loss: 1009.4739 - val_loss: nan\n",
      "Epoch 75/100\n",
      "81/81 [==============================] - 0s 2ms/step - loss: 1008.5474 - val_loss: nan\n",
      "Epoch 76/100\n",
      "81/81 [==============================] - 0s 2ms/step - loss: 1004.3564 - val_loss: nan\n",
      "Epoch 77/100\n",
      "81/81 [==============================] - 0s 1ms/step - loss: 997.5740 - val_loss: nan\n",
      "Epoch 78/100\n",
      "81/81 [==============================] - 0s 1ms/step - loss: 984.2144 - val_loss: nan\n",
      "Epoch 79/100\n",
      "81/81 [==============================] - 0s 1ms/step - loss: 995.0659 - val_loss: nan\n",
      "Epoch 80/100\n",
      "81/81 [==============================] - 0s 1ms/step - loss: 987.9907 - val_loss: nan\n",
      "Epoch 81/100\n",
      "81/81 [==============================] - 0s 1ms/step - loss: 954.8713 - val_loss: nan\n",
      "Epoch 82/100\n",
      "81/81 [==============================] - 0s 1ms/step - loss: 967.2356 - val_loss: nan\n",
      "Epoch 83/100\n"
     ]
    },
    {
     "name": "stdout",
     "output_type": "stream",
     "text": [
      "81/81 [==============================] - 0s 1ms/step - loss: 973.4855 - val_loss: nan\n",
      "Epoch 84/100\n",
      "81/81 [==============================] - 0s 1ms/step - loss: 955.7062 - val_loss: nan\n",
      "Epoch 85/100\n",
      "81/81 [==============================] - 0s 1ms/step - loss: 992.4265 - val_loss: nan\n",
      "Epoch 86/100\n",
      "81/81 [==============================] - 0s 1ms/step - loss: 936.5469 - val_loss: nan\n",
      "Epoch 87/100\n",
      "81/81 [==============================] - 0s 1ms/step - loss: 941.5148 - val_loss: nan\n",
      "Epoch 88/100\n",
      "81/81 [==============================] - 0s 1ms/step - loss: 950.4729 - val_loss: nan\n",
      "Epoch 89/100\n",
      "81/81 [==============================] - 0s 1ms/step - loss: 938.8371 - val_loss: nan\n",
      "Epoch 90/100\n",
      "81/81 [==============================] - 0s 1ms/step - loss: 927.8560 - val_loss: nan\n",
      "Epoch 91/100\n",
      "81/81 [==============================] - 0s 1ms/step - loss: 930.9879 - val_loss: nan\n",
      "Epoch 92/100\n",
      "81/81 [==============================] - 0s 1ms/step - loss: 938.3290 - val_loss: nan\n",
      "Epoch 93/100\n",
      "81/81 [==============================] - 0s 1ms/step - loss: 969.3420 - val_loss: nan\n",
      "Epoch 94/100\n",
      "81/81 [==============================] - 0s 1ms/step - loss: 910.7263 - val_loss: nan\n",
      "Epoch 95/100\n",
      "81/81 [==============================] - 0s 1ms/step - loss: 927.6501 - val_loss: nan\n",
      "Epoch 96/100\n",
      "81/81 [==============================] - 0s 1ms/step - loss: 938.4664 - val_loss: nan\n",
      "Epoch 97/100\n",
      "81/81 [==============================] - 0s 1ms/step - loss: 919.1144 - val_loss: nan\n",
      "Epoch 98/100\n",
      "81/81 [==============================] - 0s 1ms/step - loss: 924.8536 - val_loss: nan\n",
      "Epoch 99/100\n",
      "81/81 [==============================] - 0s 1ms/step - loss: 908.7778 - val_loss: nan\n",
      "Epoch 100/100\n",
      "81/81 [==============================] - 0s 1ms/step - loss: 925.8217 - val_loss: nan\n"
     ]
    },
    {
     "data": {
      "text/plain": [
       "<tensorflow.python.keras.callbacks.History at 0x24ad90bc5b0>"
      ]
     },
     "execution_count": 28,
     "metadata": {},
     "output_type": "execute_result"
    }
   ],
   "source": [
    "model1.fit(x=X_train,y=y_train,batch_size=100,epochs=100,validation_data=(X_test,y_test))"
   ]
  },
  {
   "cell_type": "code",
   "execution_count": 29,
   "id": "c012dc43",
   "metadata": {},
   "outputs": [],
   "source": [
    "losses=pd.DataFrame(model1.history.history)"
   ]
  },
  {
   "cell_type": "code",
   "execution_count": 30,
   "id": "9a5f52bb",
   "metadata": {},
   "outputs": [
    {
     "data": {
      "text/plain": [
       "<AxesSubplot:>"
      ]
     },
     "execution_count": 30,
     "metadata": {},
     "output_type": "execute_result"
    },
    {
     "data": {
      "image/png": "[encoded data removed]",
      "text/plain": [
       "<Figure size 432x288 with 1 Axes>"
      ]
     },
     "metadata": {
      "needs_background": "light"
     },
     "output_type": "display_data"
    }
   ],
   "source": [
    "losses.plot()"
   ]
  },
  {
   "cell_type": "code",
   "execution_count": 31,
   "id": "f4105674",
   "metadata": {},
   "outputs": [
    {
     "data": {
      "text/html": [
       "<div>\n",
       "<style scoped>\n",
       "    .dataframe tbody tr th:only-of-type {\n",
       "        vertical-align: middle;\n",
       "    }\n",
       "\n",
       "    .dataframe tbody tr th {\n",
       "        vertical-align: top;\n",
       "    }\n",
       "\n",
       "    .dataframe thead th {\n",
       "        text-align: right;\n",
       "    }\n",
       "</style>\n",
       "<table border=\"1\" class=\"dataframe\">\n",
       "  <thead>\n",
       "    <tr style=\"text-align: right;\">\n",
       "      <th></th>\n",
       "      <th>loss</th>\n",
       "      <th>val_loss</th>\n",
       "    </tr>\n",
       "  </thead>\n",
       "  <tbody>\n",
       "    <tr>\n",
       "      <th>0</th>\n",
       "      <td>1419.094482</td>\n",
       "      <td>NaN</td>\n",
       "    </tr>\n",
       "    <tr>\n",
       "      <th>1</th>\n",
       "      <td>1427.404419</td>\n",
       "      <td>NaN</td>\n",
       "    </tr>\n",
       "    <tr>\n",
       "      <th>2</th>\n",
       "      <td>1375.259277</td>\n",
       "      <td>NaN</td>\n",
       "    </tr>\n",
       "    <tr>\n",
       "      <th>3</th>\n",
       "      <td>1377.932251</td>\n",
       "      <td>NaN</td>\n",
       "    </tr>\n",
       "    <tr>\n",
       "      <th>4</th>\n",
       "      <td>1391.694214</td>\n",
       "      <td>NaN</td>\n",
       "    </tr>\n",
       "    <tr>\n",
       "      <th>...</th>\n",
       "      <td>...</td>\n",
       "      <td>...</td>\n",
       "    </tr>\n",
       "    <tr>\n",
       "      <th>95</th>\n",
       "      <td>938.466431</td>\n",
       "      <td>NaN</td>\n",
       "    </tr>\n",
       "    <tr>\n",
       "      <th>96</th>\n",
       "      <td>919.114380</td>\n",
       "      <td>NaN</td>\n",
       "    </tr>\n",
       "    <tr>\n",
       "      <th>97</th>\n",
       "      <td>924.853577</td>\n",
       "      <td>NaN</td>\n",
       "    </tr>\n",
       "    <tr>\n",
       "      <th>98</th>\n",
       "      <td>908.777771</td>\n",
       "      <td>NaN</td>\n",
       "    </tr>\n",
       "    <tr>\n",
       "      <th>99</th>\n",
       "      <td>925.821655</td>\n",
       "      <td>NaN</td>\n",
       "    </tr>\n",
       "  </tbody>\n",
       "</table>\n",
       "<p>100 rows × 2 columns</p>\n",
       "</div>"
      ],
      "text/plain": [
       "           loss  val_loss\n",
       "0   1419.094482       NaN\n",
       "1   1427.404419       NaN\n",
       "2   1375.259277       NaN\n",
       "3   1377.932251       NaN\n",
       "4   1391.694214       NaN\n",
       "..          ...       ...\n",
       "95   938.466431       NaN\n",
       "96   919.114380       NaN\n",
       "97   924.853577       NaN\n",
       "98   908.777771       NaN\n",
       "99   925.821655       NaN\n",
       "\n",
       "[100 rows x 2 columns]"
      ]
     },
     "execution_count": 31,
     "metadata": {},
     "output_type": "execute_result"
    }
   ],
   "source": [
    "losses"
   ]
  },
  {
   "cell_type": "code",
   "execution_count": 32,
   "id": "60604d3f",
   "metadata": {},
   "outputs": [
    {
     "data": {
      "text/plain": [
       "1935     88.827283\n",
       "6494     75.543564\n",
       "1720     78.941206\n",
       "9120     71.350426\n",
       "360     103.419991\n",
       "           ...    \n",
       "6700     76.320401\n",
       "4502     99.416621\n",
       "5294    108.378996\n",
       "8198    124.717628\n",
       "211      92.837937\n",
       "Name: Blood Pressure, Length: 3960, dtype: float64"
      ]
     },
     "execution_count": 32,
     "metadata": {},
     "output_type": "execute_result"
    }
   ],
   "source": [
    "y_test"
   ]
  },
  {
   "cell_type": "code",
   "execution_count": 33,
   "id": "b744b3a0",
   "metadata": {},
   "outputs": [],
   "source": [
    "z=[[0.331586,1.672849]]"
   ]
  },
  {
   "cell_type": "code",
   "execution_count": 34,
   "id": "e267e865",
   "metadata": {},
   "outputs": [
    {
     "data": {
      "text/plain": [
       "array([[78.1224]], dtype=float32)"
      ]
     },
     "execution_count": 34,
     "metadata": {},
     "output_type": "execute_result"
    }
   ],
   "source": [
    "model1.predict(scaler.transform(z))"
   ]
  },
  {
   "cell_type": "code",
   "execution_count": 46,
   "id": "2d6d8520",
   "metadata": {},
   "outputs": [
    {
     "ename": "NameError",
     "evalue": "name 'Y' is not defined",
     "output_type": "error",
     "traceback": [
      "\u001b[1;31m---------------------------------------------------------------------------\u001b[0m",
      "\u001b[1;31mNameError\u001b[0m                                 Traceback (most recent call last)",
      "\u001b[1;32m<ipython-input-46-16dea6606bf7>\u001b[0m in \u001b[0;36m<module>\u001b[1;34m\u001b[0m\n\u001b[1;32m----> 1\u001b[1;33m \u001b[0mscores\u001b[0m \u001b[1;33m=\u001b[0m \u001b[0mmodel1\u001b[0m\u001b[1;33m.\u001b[0m\u001b[0mevaluate\u001b[0m\u001b[1;33m(\u001b[0m\u001b[0mX\u001b[0m\u001b[1;33m,\u001b[0m\u001b[0mY\u001b[0m\u001b[1;33m,\u001b[0m\u001b[0mverbose\u001b[0m\u001b[1;33m=\u001b[0m\u001b[1;36m0\u001b[0m\u001b[1;33m)\u001b[0m\u001b[1;33m\u001b[0m\u001b[1;33m\u001b[0m\u001b[0m\n\u001b[0m\u001b[0;32m      2\u001b[0m \u001b[0mprint\u001b[0m\u001b[1;33m(\u001b[0m\u001b[1;34m\"%s: %.2f%%\"\u001b[0m \u001b[1;33m%\u001b[0m \u001b[1;33m(\u001b[0m\u001b[0mmodel1\u001b[0m\u001b[1;33m.\u001b[0m\u001b[0mmetrics_names\u001b[0m\u001b[1;33m[\u001b[0m\u001b[1;36m1\u001b[0m\u001b[1;33m]\u001b[0m\u001b[1;33m,\u001b[0m \u001b[0mscores\u001b[0m\u001b[1;33m[\u001b[0m\u001b[1;36m1\u001b[0m\u001b[1;33m]\u001b[0m\u001b[1;33m*\u001b[0m\u001b[1;36m100\u001b[0m\u001b[1;33m)\u001b[0m\u001b[1;33m)\u001b[0m\u001b[1;33m\u001b[0m\u001b[1;33m\u001b[0m\u001b[0m\n",
      "\u001b[1;31mNameError\u001b[0m: name 'Y' is not defined"
     ]
    }
   ],
   "source": [
    "scores = model1.evaluate(X,Y,verbose=0)\n",
    "print(\"%s: %.2f%%\" % (model1.metrics_names[1], scores[1]*100))"
   ]
  },
  {
   "cell_type": "code",
   "execution_count": 47,
   "id": "c52696dc",
   "metadata": {},
   "outputs": [
    {
     "name": "stdout",
     "output_type": "stream",
     "text": [
      "Saved model to disk\n"
     ]
    }
   ],
   "source": [
    "model_json = model1.to_json()\n",
    "with open(\"model.json\", \"w\") as json_file:\n",
    "    json_file.write(model_json)\n",
    "# serialize weights to HDF5\n",
    "model1.save_weights(\"model.h5\")\n",
    "print(\"Saved model to disk\")"
   ]
  },
  {
   "cell_type": "code",
   "execution_count": 48,
   "id": "d9f6736e",
   "metadata": {},
   "outputs": [
    {
     "data": {
      "text/plain": [
       "['bp_scaler.pkl']"
      ]
     },
     "execution_count": 48,
     "metadata": {},
     "output_type": "execute_result"
    }
   ],
   "source": [
    "import joblib \n",
    "joblib.dump(scaler,'bp_scaler.pkl')"
   ]
  },
  {
   "cell_type": "code",
   "execution_count": 50,
   "id": "bf46fc46",
   "metadata": {},
   "outputs": [
    {
     "ename": "TypeError",
     "evalue": "load() takes exactly 1 positional argument (2 given)",
     "output_type": "error",
     "traceback": [
      "\u001b[1;31m---------------------------------------------------------------------------\u001b[0m",
      "\u001b[1;31mTypeError\u001b[0m                                 Traceback (most recent call last)",
      "\u001b[1;32m<ipython-input-50-5d4d129bef96>\u001b[0m in \u001b[0;36m<module>\u001b[1;34m\u001b[0m\n\u001b[1;32m----> 1\u001b[1;33m \u001b[0mloaded_model\u001b[0m \u001b[1;33m=\u001b[0m \u001b[0mpickle\u001b[0m\u001b[1;33m.\u001b[0m\u001b[0mload\u001b[0m\u001b[1;33m(\u001b[0m\u001b[1;34m'bp_scaler.pkl'\u001b[0m\u001b[1;33m,\u001b[0m \u001b[1;34m'rb'\u001b[0m\u001b[1;33m)\u001b[0m\u001b[1;33m\u001b[0m\u001b[1;33m\u001b[0m\u001b[0m\n\u001b[0m\u001b[0;32m      2\u001b[0m \u001b[0mresult\u001b[0m \u001b[1;33m=\u001b[0m \u001b[0mmodel1\u001b[0m\u001b[1;33m.\u001b[0m\u001b[0mpredict\u001b[0m\u001b[1;33m(\u001b[0m\u001b[0mscaler\u001b[0m\u001b[1;33m.\u001b[0m\u001b[0mtransform\u001b[0m\u001b[1;33m(\u001b[0m\u001b[0mz\u001b[0m\u001b[1;33m)\u001b[0m\u001b[1;33m)\u001b[0m\u001b[1;33m\u001b[0m\u001b[1;33m\u001b[0m\u001b[0m\n\u001b[0;32m      3\u001b[0m \u001b[0mprint\u001b[0m\u001b[1;33m(\u001b[0m\u001b[0mresult\u001b[0m\u001b[1;33m)\u001b[0m\u001b[1;33m\u001b[0m\u001b[1;33m\u001b[0m\u001b[0m\n",
      "\u001b[1;31mTypeError\u001b[0m: load() takes exactly 1 positional argument (2 given)"
     ]
    }
   ],
   "source": [
    "loaded_model = pickle.load('bp_scaler.pkl', 'rb')\n",
    "result = model1.predict(scaler.transform(z))\n",
    "print(result)\n"
   ]
  },
  {
   "cell_type": "code",
   "execution_count": null,
   "id": "087b605e",
   "metadata": {},
   "outputs": [],
   "source": []
  }
 ],
 "metadata": {
  "kernelspec": {
   "display_name": "Python 3",
   "language": "python",
   "name": "python3"
  },
  "language_info": {
   "codemirror_mode": {
    "name": "ipython",
    "version": 3
   },
   "file_extension": ".py",
   "mimetype": "text/x-python",
   "name": "python",
   "nbconvert_exporter": "python",
   "pygments_lexer": "ipython3",
   "version": "3.8.8"
  }
 },
 "nbformat": 4,
 "nbformat_minor": 5
}
